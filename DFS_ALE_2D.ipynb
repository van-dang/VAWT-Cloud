{
  "nbformat": 4,
  "nbformat_minor": 0,
  "metadata": {
    "colab": {
      "name": "DFS_ALE_2D.ipynb",
      "version": "0.3.2",
      "provenance": [],
      "collapsed_sections": [
        "vS_YdSbqFOln",
        "9SJXe6I5JUwF",
        "6l4kvMZQb3z6",
        "r6GW2fwLE042"
      ],
      "toc_visible": true,
      "include_colab_link": true
    },
    "kernelspec": {
      "name": "python3",
      "display_name": "Python 3"
    },
    "accelerator": "GPU"
  },
  "cells": [
    {
      "cell_type": "markdown",
      "metadata": {
        "id": "view-in-github",
        "colab_type": "text"
      },
      "source": [
        "<a href=\"https://colab.research.google.com/github/van-dang/VAWT-Cloud/blob/master/DFS_ALE_2D.ipynb\" target=\"_parent\"><img src=\"https://colab.research.google.com/assets/colab-badge.svg\" alt=\"Open In Colab\"/></a>"
      ]
    },
    {
      "cell_type": "markdown",
      "metadata": {
        "id": "vS_YdSbqFOln",
        "colab_type": "text"
      },
      "source": [
        "# About the code"
      ]
    },
    {
      "cell_type": "code",
      "metadata": {
        "id": "CiQ9r51xKgWh",
        "colab_type": "code",
        "colab": {}
      },
      "source": [
        "# This program solves the Bloch-Torrey equation applied to computational diffusion MRI using \n",
        "# the finite element method coupled with the theta-method for the spatial discretization.\n",
        "\n",
        "# The scope of usage: \n",
        "# (1) Single domains, Multilayered structures, manifolds\n",
        "# (2) Membrane permeability for internal interfaces\n",
        "#     Artificial permeability at the external interfaces\n",
        "# (3) pure homogeneous Neumann BCs, (4) pseudo-periodic BCs\n",
        "\n",
        "# Copyright (C) 2019 Van-Dang Nguyen (vdnguyen@kth.se)\n",
        "\n",
        "# This file is part of DOLFIN.\n",
        "\n",
        "# DOLFIN is free software: you can redistribute it and/or modify\n",
        "# it under the terms of the GNU Lesser General Public License as published by\n",
        "# the Free Software Foundation, either version 3 of the License, or\n",
        "# (at your option) any later version.\n",
        "\n",
        "# DOLFIN is distributed in the hope that it will be useful,\n",
        "# but WITHOUT ANY WARRANTY; without even the implied warranty of\n",
        "# MERCHANTABILITY or FITNESS FOR A PARTICULAR PURPOSE. See the\n",
        "# GNU Lesser General Public License for more details.\n",
        "\n",
        "# You should have received a copy of the GNU Lesser General Public License\n",
        "# along with DOLFIN. If not, see <http://www.gnu.org/licenses/>.\n",
        "\n",
        "# First added:  2017-10-10\n",
        "# Last changed: 2019-04-25\n",
        "\n",
        "# This demo is maintained by Van-Dang Nguyen\n",
        "# Please report possible problems to vdnguyen@kth.se"
      ],
      "execution_count": 0,
      "outputs": []
    },
    {
      "cell_type": "markdown",
      "metadata": {
        "id": "9SJXe6I5JUwF",
        "colab_type": "text"
      },
      "source": [
        "# Setting a working environment with FEniCS"
      ]
    },
    {
      "cell_type": "code",
      "metadata": {
        "id": "4jWzVxURFVLj",
        "colab_type": "code",
        "outputId": "33dc52b1-b0c4-4c61-d7dc-09ebdbb32c6c",
        "colab": {
          "base_uri": "https://localhost:8080/",
          "height": 68
        }
      },
      "source": [
        "# !rm *.py *.xml *.txt *.zip *.pvd *.vtu *.geo *.msh\n",
        "try:\n",
        "    from google.colab import files\n",
        "except:\n",
        "    print(\"This is not google.colab\")\n",
        "    \n",
        "import platform, sys\n",
        "python_version=platform.python_version()\n",
        "from distutils.version import LooseVersion, StrictVersion\n",
        "\n",
        "if ( LooseVersion(python_version) < LooseVersion(\"3.0.0\")):\n",
        "    print(\"Python3 is needed!\");\n",
        "    print(\"How to fix: Runtime/Change_runtime_type/Python 3\");\n",
        "    sys.exit()\n",
        "    \n",
        "try:\n",
        "    from dolfin import *; from mshr import *\n",
        "except ImportError as e:\n",
        "    !apt-get install -y -qq software-properties-common python-software-properties module-init-tools\n",
        "    !add-apt-repository -y ppa:fenics-packages/fenics\n",
        "    !apt-get update -qq\n",
        "    !apt install -y --no-install-recommends fenics\n",
        "    from dolfin import *; from mshr import *\n",
        "\n",
        "gmsh_dir=!which gmsh\n",
        "if len(gmsh_dir)==0:\n",
        "    !sudo apt-get update\n",
        "    !sudo apt-get install -y gmsh\n",
        "    \n",
        "import matplotlib.pyplot as plt;\n",
        "from IPython.display import clear_output, display; import time; import dolfin.common.plotting as fenicsplot \n",
        "import time\n",
        "\n",
        "import os, sys, shutil\n",
        "\n",
        "dolfin_version = dolfin.__version__\n",
        "print ('dolfin version:', dolfin_version)\n",
        "\n",
        "# Disable warnings\n",
        "import logging\n",
        "logging.basicConfig(level=logging.DEBUG)\n",
        "logger = logging.getLogger(\"rothemain.rothe_utils\")\n",
        "logging.getLogger('UFL').setLevel(logging.WARNING)\n",
        "logging.getLogger('FFC').setLevel(logging.WARNING)\n",
        "\n",
        "import warnings\n",
        "warnings.filterwarnings(\"ignore\")\n"
      ],
      "execution_count": 0,
      "outputs": [
        {
          "output_type": "stream",
          "text": [
            "This is not google.colab\n"
          ],
          "name": "stdout"
        },
        {
          "output_type": "stream",
          "text": [
            "DEBUG:matplotlib.pyplot:Loaded backend module://ipykernel.pylab.backend_inline version unknown.\n"
          ],
          "name": "stderr"
        },
        {
          "output_type": "stream",
          "text": [
            "dolfin version: 2019.1.0\n"
          ],
          "name": "stdout"
        }
      ]
    },
    {
      "cell_type": "markdown",
      "metadata": {
        "id": "r6GW2fwLE042",
        "colab_type": "text"
      },
      "source": [
        "# Working on the mesh"
      ]
    },
    {
      "cell_type": "code",
      "metadata": {
        "id": "ksCOgH6e6d8e",
        "colab_type": "code",
        "outputId": "690f8c07-a165-4f50-9647-50e26a5ff9f2",
        "colab": {
          "base_uri": "https://localhost:8080/",
          "height": 136
        }
      },
      "source": [
        "!rm simple_2D_turbine.geo\n",
        "mesh_name='simple_2D_turbine'\n",
        "is_geo_file_exist = os.path.isfile(mesh_name+'.geo')\n",
        "if  is_geo_file_exist==False:\n",
        "    !wget https://github.com/van-dang/VAWT-Cloud/raw/master/$mesh_name''.geo\n",
        "!gmsh -2 $mesh_name''.geo -o $mesh_name''.msh\n",
        "!dolfin-convert $mesh_name''.msh $mesh_name''.xml\n",
        "mesh = Mesh(mesh_name+'.xml')\n",
        "plot(mesh)"
      ],
      "execution_count": 0,
      "outputs": [
        {
          "output_type": "stream",
          "text": [
            "--2019-07-10 13:29:16--  https://github.com/van-dang/VAWT-Cloud/raw/master/simple_2D_turbine.geo\r\n",
            "Resolving github.com (github.com)... 140.82.118.4\r\n",
            "Connecting to github.com (github.com)|140.82.118.4|:443... connected.\n",
            "HTTP request sent, awaiting response... 302 Found\n",
            "Location: https://raw.githubusercontent.com/van-dang/VAWT-Cloud/master/simple_2D_turbine.geo [following]\n",
            "--2019-07-10 13:29:16--  https://raw.githubusercontent.com/van-dang/VAWT-Cloud/master/simple_2D_turbine.geo\n",
            "Resolving raw.githubusercontent.com (raw.githubusercontent.com)... "
          ],
          "name": "stdout"
        }
      ]
    },
    {
      "cell_type": "markdown",
      "metadata": {
        "id": "aFEvif9PF2yH",
        "colab_type": "text"
      },
      "source": [
        "# Solve the Navier-Stokes equations"
      ]
    },
    {
      "cell_type": "code",
      "metadata": {
        "id": "DYZ5SWlw69tQ",
        "colab_type": "code",
        "colab": {}
      },
      "source": [
        "def plot_compact(u, t, stepcounter, QQ, pl, ax): # Compact plot utility function\n",
        "  if stepcounter == 0:\n",
        "    pl, ax = plt.subplots(); display(pl); clear_output(); # Plotting setup\n",
        "  if stepcounter % 5 == 0:\n",
        "    pl, ax = plt.subplots(); display(pl); clear_output(); # Plotting setup\n",
        "    uEuclidnorm = project(sqrt(inner(u, u)), QQ); ax.cla(); fig = plt.gcf(); fig.set_size_inches(16, 4)\n",
        "    plt.subplot(1, 2, 1); pp = plot(uEuclidnorm, cmap=\"coolwarm\"); plt.title(\"Velocity at t=%f\" % (t)) # Plot norm of velocity\n",
        "    plt.subplot(1, 2, 2);\n",
        "    plot(Q.mesh()); plt.title(\"Mesh\") # Plot mesh\n",
        "    plt.tight_layout(); dpl = display(pl, display_id=\"test\");\n",
        "  \n",
        "  return (pl, ax)\n",
        "\n",
        "VE = VectorElement(\"CG\", mesh.ufl_cell(), 1); QE = FiniteElement(\"CG\", mesh.ufl_cell(), 1); h = CellDiameter(mesh); # FEM functions\n",
        "WE = VE * QE; W = FunctionSpace(mesh, WE); V = FunctionSpace(mesh, VE); Q = FunctionSpace(mesh, QE) # Make a mixed space\n",
        "(v, q) = TestFunctions(W); w = Function(W); (u, p) = (as_vector((w[0], w[1])), w[2]); u0 = Function(V)\n",
        "\n",
        "uin = Expression((\"1.0\", \"0.\"), element = V.ufl_element()) # Inflow velocity\n",
        "om = Expression(\"x[0] > 0 ? 1. : 0.\", element = Q.ufl_element()) # Mark regions for boundary conditions\n",
        "im = Expression(\"x[0] < 0 ? 1. : 0.\", element = Q.ufl_element())\n",
        "nm = Expression(\"x[0]*x[0]+x[1]*x[1] < 16.0 ? 1. : 0.\", element = Q.ufl_element())\n",
        "\n",
        "stepcounter = 0; pl = None; ax = None\n",
        "\n",
        "plot(mesh)"
      ],
      "execution_count": 0,
      "outputs": []
    },
    {
      "cell_type": "code",
      "metadata": {
        "id": "1v1LjzHBssnJ",
        "colab_type": "code",
        "colab": {}
      },
      "source": [
        "stepcounter = 0; pl = None; ax = None\n",
        "\n",
        "G = [-5, 5, -5, 5];\n",
        "import math\n",
        "pi = math.pi\n",
        "\n",
        "\n",
        "class Beta(UserExpression):\n",
        "    def set(self, rad_angle, k):\n",
        "        self.rad_angle = rad_angle\n",
        "        self.k = k\n",
        "    def eval(self,values, x):\n",
        "        values[0] = x[0]/self.k*(cos(self.rad_angle)-1)-x[1]/k*sin(self.rad_angle)\n",
        "        values[1] = x[1]/self.k*(cos(self.rad_angle)-1)+x[0]/k*sin(self.rad_angle)\n",
        "    def value_shape(self):\n",
        "        return (2,)\n",
        "      \n",
        "beta = Beta()\n",
        "      \n",
        "k = 0.1; nu = 1e-6; d = 0.2*h # Timestep, viscosity and stabilization parameters\n",
        "t, T = 0., 10.; gamma = 10*1./h # Time interval and penalty parameter\n",
        "\n",
        "theta = 0.5 # 0.5 - Midpoint rule, 1.0 - Implicit Euler, 0.0 - Explicit Euler\n",
        "while t < T: # Time-stepping loop\n",
        "  if t<1.0:\n",
        "      rad_angle = 0    \n",
        "  else:\n",
        "      rad_angle = -pi/180.;\n",
        "  beta.set(rad_angle, k)\n",
        "  mesh.rotate(rad_angle*180./pi);\n",
        "  um = theta*u + (1.0-theta)*u0 # Weak residual of stabilized FEM for Navier-Stokes eq.\n",
        "  r = ((inner((u - u0)/k + grad(p) + grad(um)*(um-beta), v) + nu*inner(grad(um), grad(v)) + div(um)*q)*dx +\n",
        "       gamma*(om*p*q + im*inner(u - uin, v) + nm*inner(u, v))*ds + # Weak boundary conditions\n",
        "      d*(inner(grad(p) + grad(um)*(um), grad(q) + grad(um)*v) + inner(div(um), div(v)))*dx) # Stabilization\n",
        "  solve(r==0, w)  # Solve the Navier-Stokes PDE (one timestep)\n",
        "  pl, ax = plot_compact(u, t, stepcounter, Q, pl, ax) # Plot all quantities (see implementation above)\n",
        "  t += k; stepcounter += 1; u0 = project(u, V); # Shift to next timestep"
      ],
      "execution_count": 0,
      "outputs": []
    }
  ]
}